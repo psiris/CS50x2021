{
 "cells": [
  {
   "cell_type": "markdown",
   "id": "53f2f82a",
   "metadata": {},
   "source": [
    "# CS50 x 2021: Introduction to Comupter Science\n",
    "### Week 8: internet, web dev, HTML, CSS JavaScript"
   ]
  },
  {
   "cell_type": "markdown",
   "id": "672f7f4a",
   "metadata": {},
   "source": [
    "\n",
    "Start the project from the laptop"
   ]
  },
  {
   "cell_type": "markdown",
   "id": "969476d3",
   "metadata": {},
   "source": [
    "Type the laptop path:`/Users/littleaurel/1.Project\\ Ice` </br>\n",
    "Connect with github: `cd thebrandis` </br>\n",
    "Open VS Code: `code .` </br>\n",
    "\n",
    "Open Servor: `npm start`"
   ]
  },
  {
   "cell_type": "markdown",
   "id": "ea9e38ac",
   "metadata": {},
   "source": []
  },
  {
   "cell_type": "markdown",
   "id": "e500fbe7",
   "metadata": {},
   "source": []
  }
 ],
 "metadata": {
  "kernelspec": {
   "display_name": "Python 3",
   "language": "python",
   "name": "python3"
  },
  "language_info": {
   "codemirror_mode": {
    "name": "ipython",
    "version": 3
   },
   "file_extension": ".py",
   "mimetype": "text/x-python",
   "name": "python",
   "nbconvert_exporter": "python",
   "pygments_lexer": "ipython3",
   "version": "3.7.6"
  }
 },
 "nbformat": 4,
 "nbformat_minor": 5
}
